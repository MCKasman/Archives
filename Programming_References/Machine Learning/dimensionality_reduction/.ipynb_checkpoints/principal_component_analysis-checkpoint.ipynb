{
 "cells": [
  {
   "cell_type": "markdown",
   "metadata": {},
   "source": [
    "# Principal Component Analysis (PCA)\n",
    "PCA is a dimensionality reduction technique to reduce the dimensions of a large data set by transforming the large set of variables into a smaller one that contains most of the information in the large data set.\n",
    "* <b> Unsupervised model</b> since we do not count the dependent variables as part of the model \n",
    "\n",
    "This is advantageous because smaller data sets are easier to explore and visualize, whch makes data analysis much easier and faster for machine learning algorithms.\n",
    "\n",
    "If we use a PCA to transform a larger data set into a smaller data set, then PCA will:\n",
    "* Tell us which variables are the most valuable for clustering the data\n",
    "* Tell us how accurate the smaller data set is relative to the larger data set\n",
    "\n",
    "### Example of PCA\n",
    "<img src=\"images/pca_1.png\" width=\"900\" height=\"750\" align=\"center\"/>\n",
    "\n",
    "Notice how there are 4 columns (4D), which means we cannot plot the data because visualizing 4D is impossible. Fortunately, we used PCA to resolve this issue by decreasing the dimensions.\n",
    "\n",
    "PC1 and PC2 stand for principal component 1 and 2. The PCs are newly uncorrelated variables that compress most of the variance (information) of the data set. Since we don't know what PC1 and PC2 represent, we could guess what they are. For example, we can guess that PC1 is gender because gender may cause significant plant size variances.\n",
    "\n",
    "### Principal Component (PC) Meaning\n",
    "Let's say hypothetically we perform PCA with PC1 = 91% and PC2 = 4% as the expected variance percentages.\n",
    "* PC1 (the largest variation) accounts for 91% of the variation in the data\n",
    "* PC2 (the second largest variation) accounts for 4% of the variation in the data\n",
    "\n",
    "Then we would have a 2D data set using PC1 and PC2 with 95% of the variance from the large data set!\n",
    "\n",
    "### PCA Axes Ranking\n",
    "<img src=\"images/pca_2.png\" width=\"500\" height=\"500\" align=\"center\"/>\n",
    "\n",
    "Even though the PC2 (y) distance of the blue cluster to the red cluster and the PC1 (x) distance of the yellow cluster to the red cluster are the same, the variance (difference) of the red cluster and the yellow cluster is greater than the variance (difference) of the red cluster and the blue cluster.\n",
    "\n",
    "This is because PC1 has the largest variation percentage, so clusters separated on the PC1 axis would be more prone to being variant (different) than clusters separated on the PC2 axis."
   ]
  },
  {
   "cell_type": "markdown",
   "metadata": {},
   "source": [
    "# Data Pre-processing"
   ]
  },
  {
   "cell_type": "code",
   "execution_count": 1,
   "metadata": {},
   "outputs": [],
   "source": [
    "# import libraries\n",
    "import numpy as np\n",
    "import matplotlib.pyplot as plt\n",
    "import pandas as pd"
   ]
  },
  {
   "cell_type": "code",
   "execution_count": 2,
   "metadata": {},
   "outputs": [
    {
     "data": {
      "text/html": [
       "<div>\n",
       "<style scoped>\n",
       "    .dataframe tbody tr th:only-of-type {\n",
       "        vertical-align: middle;\n",
       "    }\n",
       "\n",
       "    .dataframe tbody tr th {\n",
       "        vertical-align: top;\n",
       "    }\n",
       "\n",
       "    .dataframe thead th {\n",
       "        text-align: right;\n",
       "    }\n",
       "</style>\n",
       "<table border=\"1\" class=\"dataframe\">\n",
       "  <thead>\n",
       "    <tr style=\"text-align: right;\">\n",
       "      <th></th>\n",
       "      <th>Alcohol</th>\n",
       "      <th>Malic_Acid</th>\n",
       "      <th>Ash</th>\n",
       "      <th>Ash_Alcanity</th>\n",
       "      <th>Magnesium</th>\n",
       "      <th>Total_Phenols</th>\n",
       "      <th>Flavanoids</th>\n",
       "      <th>Nonflavanoid_Phenols</th>\n",
       "      <th>Proanthocyanins</th>\n",
       "      <th>Color_Intensity</th>\n",
       "      <th>Hue</th>\n",
       "      <th>OD280</th>\n",
       "      <th>Proline</th>\n",
       "      <th>Customer_Segment</th>\n",
       "    </tr>\n",
       "  </thead>\n",
       "  <tbody>\n",
       "    <tr>\n",
       "      <td>0</td>\n",
       "      <td>14.23</td>\n",
       "      <td>1.71</td>\n",
       "      <td>2.43</td>\n",
       "      <td>15.6</td>\n",
       "      <td>127</td>\n",
       "      <td>2.80</td>\n",
       "      <td>3.06</td>\n",
       "      <td>0.28</td>\n",
       "      <td>2.29</td>\n",
       "      <td>5.64</td>\n",
       "      <td>1.04</td>\n",
       "      <td>3.92</td>\n",
       "      <td>1065</td>\n",
       "      <td>1</td>\n",
       "    </tr>\n",
       "    <tr>\n",
       "      <td>1</td>\n",
       "      <td>13.20</td>\n",
       "      <td>1.78</td>\n",
       "      <td>2.14</td>\n",
       "      <td>11.2</td>\n",
       "      <td>100</td>\n",
       "      <td>2.65</td>\n",
       "      <td>2.76</td>\n",
       "      <td>0.26</td>\n",
       "      <td>1.28</td>\n",
       "      <td>4.38</td>\n",
       "      <td>1.05</td>\n",
       "      <td>3.40</td>\n",
       "      <td>1050</td>\n",
       "      <td>1</td>\n",
       "    </tr>\n",
       "    <tr>\n",
       "      <td>2</td>\n",
       "      <td>13.16</td>\n",
       "      <td>2.36</td>\n",
       "      <td>2.67</td>\n",
       "      <td>18.6</td>\n",
       "      <td>101</td>\n",
       "      <td>2.80</td>\n",
       "      <td>3.24</td>\n",
       "      <td>0.30</td>\n",
       "      <td>2.81</td>\n",
       "      <td>5.68</td>\n",
       "      <td>1.03</td>\n",
       "      <td>3.17</td>\n",
       "      <td>1185</td>\n",
       "      <td>1</td>\n",
       "    </tr>\n",
       "    <tr>\n",
       "      <td>3</td>\n",
       "      <td>14.37</td>\n",
       "      <td>1.95</td>\n",
       "      <td>2.50</td>\n",
       "      <td>16.8</td>\n",
       "      <td>113</td>\n",
       "      <td>3.85</td>\n",
       "      <td>3.49</td>\n",
       "      <td>0.24</td>\n",
       "      <td>2.18</td>\n",
       "      <td>7.80</td>\n",
       "      <td>0.86</td>\n",
       "      <td>3.45</td>\n",
       "      <td>1480</td>\n",
       "      <td>1</td>\n",
       "    </tr>\n",
       "    <tr>\n",
       "      <td>4</td>\n",
       "      <td>13.24</td>\n",
       "      <td>2.59</td>\n",
       "      <td>2.87</td>\n",
       "      <td>21.0</td>\n",
       "      <td>118</td>\n",
       "      <td>2.80</td>\n",
       "      <td>2.69</td>\n",
       "      <td>0.39</td>\n",
       "      <td>1.82</td>\n",
       "      <td>4.32</td>\n",
       "      <td>1.04</td>\n",
       "      <td>2.93</td>\n",
       "      <td>735</td>\n",
       "      <td>1</td>\n",
       "    </tr>\n",
       "  </tbody>\n",
       "</table>\n",
       "</div>"
      ],
      "text/plain": [
       "   Alcohol  Malic_Acid   Ash  Ash_Alcanity  Magnesium  Total_Phenols  \\\n",
       "0    14.23        1.71  2.43          15.6        127           2.80   \n",
       "1    13.20        1.78  2.14          11.2        100           2.65   \n",
       "2    13.16        2.36  2.67          18.6        101           2.80   \n",
       "3    14.37        1.95  2.50          16.8        113           3.85   \n",
       "4    13.24        2.59  2.87          21.0        118           2.80   \n",
       "\n",
       "   Flavanoids  Nonflavanoid_Phenols  Proanthocyanins  Color_Intensity   Hue  \\\n",
       "0        3.06                  0.28             2.29             5.64  1.04   \n",
       "1        2.76                  0.26             1.28             4.38  1.05   \n",
       "2        3.24                  0.30             2.81             5.68  1.03   \n",
       "3        3.49                  0.24             2.18             7.80  0.86   \n",
       "4        2.69                  0.39             1.82             4.32  1.04   \n",
       "\n",
       "   OD280  Proline  Customer_Segment  \n",
       "0   3.92     1065                 1  \n",
       "1   3.40     1050                 1  \n",
       "2   3.17     1185                 1  \n",
       "3   3.45     1480                 1  \n",
       "4   2.93      735                 1  "
      ]
     },
     "execution_count": 2,
     "metadata": {},
     "output_type": "execute_result"
    }
   ],
   "source": [
    "# import the data set\n",
    "wine_df = pd.read_csv(\"data/wine.csv\")\n",
    "wine_df.head()"
   ]
  },
  {
   "cell_type": "code",
   "execution_count": 3,
   "metadata": {},
   "outputs": [],
   "source": [
    "# receive only the independent variables (columns 1 - 12), disregard the dependent variable Customer_Segment\n",
    "x = wine_df.iloc[:, 0:13].values\n",
    "\n",
    "# receive the Customer_Segment column\n",
    "y = wine_df.iloc[:, 13].values"
   ]
  },
  {
   "cell_type": "code",
   "execution_count": 4,
   "metadata": {},
   "outputs": [],
   "source": [
    "# split the data set into training and testing data sets\n",
    "from sklearn.model_selection import train_test_split \n",
    "x_train, x_test, y_train, y_test = train_test_split(x, y, test_size=0.20, random_state=0)"
   ]
  },
  {
   "cell_type": "code",
   "execution_count": 5,
   "metadata": {},
   "outputs": [],
   "source": [
    "# import a Standarization Scaler for Feature Scaling\n",
    "from sklearn.preprocessing import StandardScaler\n",
    "\n",
    "# feature scale the training and testing sets\n",
    "sc_x = StandardScaler()\n",
    "x_train = sc_x.fit_transform(x_train)\n",
    "x_test = sc_x.transform(x_test)"
   ]
  },
  {
   "cell_type": "markdown",
   "metadata": {},
   "source": [
    "# Applying PCA Model"
   ]
  },
  {
   "cell_type": "code",
   "execution_count": 6,
   "metadata": {},
   "outputs": [],
   "source": [
    "# import the PCA model\n",
    "from sklearn.decomposition import PCA"
   ]
  },
  {
   "cell_type": "code",
   "execution_count": 28,
   "metadata": {},
   "outputs": [],
   "source": [
    "# create a PCA with no specified principal components\n",
    "pca = PCA(n_components = None)\n",
    "\n",
    "# fit the x_train, then transform the x_train and x_test \n",
    "x_train = pca.fit_transform(x_train)\n",
    "x_test = pca.transform(x_test)"
   ]
  },
  {
   "cell_type": "code",
   "execution_count": 29,
   "metadata": {},
   "outputs": [
    {
     "name": "stdout",
     "output_type": "stream",
     "text": [
      "[0.36884109 0.19318394 0.10752862 0.07421996 0.06245904 0.04909\n",
      " 0.04117287 0.02495984 0.02308855 0.01864124 0.01731766 0.01252785\n",
      " 0.00696933]\n"
     ]
    }
   ],
   "source": [
    "# outputs the percentage PCs will explain the data sets\n",
    "# we will take the top 2 PCs since they explain ~56% of the data (explains most variance)\n",
    "explained_variance = pca.explained_variance_ratio_\n",
    "print(explained_variance)"
   ]
  },
  {
   "cell_type": "markdown",
   "metadata": {},
   "source": [
    "### Re-apply PCA Model"
   ]
  },
  {
   "cell_type": "code",
   "execution_count": 7,
   "metadata": {},
   "outputs": [
    {
     "data": {
      "text/plain": [
       "array([[-2.17884511, -1.07218467],\n",
       "       [-1.80819239,  1.57822344],\n",
       "       [ 1.09829474,  2.22124345],\n",
       "       [-2.55584748, -1.66210369],\n",
       "       [ 1.85698063,  0.24157317],\n",
       "       [ 2.58288576, -1.3766817 ],\n",
       "       [ 0.87287612,  2.25618512],\n",
       "       [-0.41838403,  2.35415681],\n",
       "       [-0.30497725,  2.27659433],\n",
       "       [ 2.14082532, -1.10052871]])"
      ]
     },
     "execution_count": 7,
     "metadata": {},
     "output_type": "execute_result"
    }
   ],
   "source": [
    "# create a PCA with 2 principal components\n",
    "pca = PCA(n_components = 2)\n",
    "\n",
    "# fit the x_train, then transform the x_train and x_test \n",
    "x_train = pca.fit_transform(x_train)\n",
    "x_test = pca.transform(x_test)\n",
    "\n",
    "\"\"\"\n",
    "show the first 10 rows of the training set\n",
    "\n",
    "As seen below, there are only 2 independent variables (PC1 and PC2).\n",
    "\"\"\"\n",
    "x_train[:10]"
   ]
  },
  {
   "cell_type": "code",
   "execution_count": 8,
   "metadata": {},
   "outputs": [
    {
     "name": "stdout",
     "output_type": "stream",
     "text": [
      "[0.36884109 0.19318394]\n"
     ]
    }
   ],
   "source": [
    "\"\"\"\n",
    "the explained variance (PCs) of each principal component in descending order\n",
    "\n",
    "PC1 equals 37.28% and PC2 equals 18.74% of the training set's variance, which is pretty good.\n",
    "\"\"\"\n",
    "explained_variance = pca.explained_variance_ratio_\n",
    "print(explained_variance)"
   ]
  },
  {
   "cell_type": "markdown",
   "metadata": {},
   "source": [
    "# Graph PCA\n",
    "Below is a graph of the training set's columns and their eigen values for each principal component. Based on the graph of the PCA below, there seems to be 3 clusters: the middle-left, middle-bottom, and top-right."
   ]
  },
  {
   "cell_type": "code",
   "execution_count": 9,
   "metadata": {},
   "outputs": [
    {
     "data": {
      "text/html": [
       "<div>\n",
       "<style scoped>\n",
       "    .dataframe tbody tr th:only-of-type {\n",
       "        vertical-align: middle;\n",
       "    }\n",
       "\n",
       "    .dataframe tbody tr th {\n",
       "        vertical-align: top;\n",
       "    }\n",
       "\n",
       "    .dataframe thead th {\n",
       "        text-align: right;\n",
       "    }\n",
       "</style>\n",
       "<table border=\"1\" class=\"dataframe\">\n",
       "  <thead>\n",
       "    <tr style=\"text-align: right;\">\n",
       "      <th></th>\n",
       "      <th>Alcohol</th>\n",
       "      <th>Malic_Acid</th>\n",
       "      <th>Ash</th>\n",
       "      <th>Ash_Alcanity</th>\n",
       "      <th>Magnesium</th>\n",
       "      <th>Total_Phenols</th>\n",
       "      <th>Flavanoids</th>\n",
       "      <th>Nonflavanoid_Phenols</th>\n",
       "      <th>Proanthocyanins</th>\n",
       "      <th>Color_Intensity</th>\n",
       "      <th>Hue</th>\n",
       "      <th>OD280</th>\n",
       "      <th>Proline</th>\n",
       "    </tr>\n",
       "  </thead>\n",
       "  <tbody>\n",
       "    <tr>\n",
       "      <td>PC1</td>\n",
       "      <td>0.129600</td>\n",
       "      <td>-0.244641</td>\n",
       "      <td>-0.010189</td>\n",
       "      <td>-0.240516</td>\n",
       "      <td>0.126495</td>\n",
       "      <td>0.389441</td>\n",
       "      <td>0.427578</td>\n",
       "      <td>-0.305057</td>\n",
       "      <td>0.307753</td>\n",
       "      <td>-0.110272</td>\n",
       "      <td>0.307105</td>\n",
       "      <td>0.376362</td>\n",
       "      <td>0.281109</td>\n",
       "    </tr>\n",
       "    <tr>\n",
       "      <td>PC2</td>\n",
       "      <td>-0.498073</td>\n",
       "      <td>-0.231685</td>\n",
       "      <td>-0.314969</td>\n",
       "      <td>0.023218</td>\n",
       "      <td>-0.258420</td>\n",
       "      <td>-0.100685</td>\n",
       "      <td>-0.020980</td>\n",
       "      <td>-0.039906</td>\n",
       "      <td>-0.067460</td>\n",
       "      <td>-0.530871</td>\n",
       "      <td>0.271617</td>\n",
       "      <td>0.160712</td>\n",
       "      <td>-0.365473</td>\n",
       "    </tr>\n",
       "  </tbody>\n",
       "</table>\n",
       "</div>"
      ],
      "text/plain": [
       "      Alcohol  Malic_Acid       Ash  Ash_Alcanity  Magnesium  Total_Phenols  \\\n",
       "PC1  0.129600   -0.244641 -0.010189     -0.240516   0.126495       0.389441   \n",
       "PC2 -0.498073   -0.231685 -0.314969      0.023218  -0.258420      -0.100685   \n",
       "\n",
       "     Flavanoids  Nonflavanoid_Phenols  Proanthocyanins  Color_Intensity  \\\n",
       "PC1    0.427578             -0.305057         0.307753        -0.110272   \n",
       "PC2   -0.020980             -0.039906        -0.067460        -0.530871   \n",
       "\n",
       "          Hue     OD280   Proline  \n",
       "PC1  0.307105  0.376362  0.281109  \n",
       "PC2  0.271617  0.160712 -0.365473  "
      ]
     },
     "execution_count": 9,
     "metadata": {},
     "output_type": "execute_result"
    }
   ],
   "source": [
    "# create a DataFrame using each column's eigen value per principal component\n",
    "reduced_wine_df = pd.DataFrame(pca.components_, columns=wine_df.iloc[:, 0:13].columns, index=[\"PC1\", \"PC2\"])\n",
    "reduced_wine_df.head()"
   ]
  },
  {
   "cell_type": "code",
   "execution_count": 10,
   "metadata": {},
   "outputs": [
    {
     "data": {
      "text/plain": [
       "<matplotlib.collections.PathCollection at 0x229185e6848>"
      ]
     },
     "execution_count": 10,
     "metadata": {},
     "output_type": "execute_result"
    },
    {
     "data": {
      "image/png": "[encoded data removed]",
      "text/plain": [
       "<Figure size 432x288 with 1 Axes>"
      ]
     },
     "metadata": {
      "needs_background": "light"
     },
     "output_type": "display_data"
    }
   ],
   "source": [
    "# create a blank plot figure\n",
    "figure = plt.figure()\n",
    "\n",
    "# add the graph's axes with their aspect ratios\n",
    "axes = figure.add_axes([1, 1, 1, 1])\n",
    "\n",
    "# set the PC1 and PC2 labels on the axes\n",
    "rounded_pc1 = str(round(pca.explained_variance_ratio_[0] * 100, 2))\n",
    "rounded_pc2 = str(round(pca.explained_variance_ratio_[1] * 100, 2))\n",
    "axes.set_xlabel(\"PC1 \" + rounded_pc1 + \"%\")\n",
    "axes.set_ylabel(\"PC2 \" + rounded_pc2 + \"%\")\n",
    "\n",
    "# set the title\n",
    "axes.set_title(\"Dimensional Reduction of Wine DataFrame\")\n",
    "\n",
    "# scatter plot the PC1 (x-axis) and PC2 (y-axis)\n",
    "axes.scatter(x=reduced_wine_df.loc[\"PC1\"], y=reduced_wine_df.loc[\"PC2\"])"
   ]
  },
  {
   "cell_type": "markdown",
   "metadata": {},
   "source": [
    "# Applying Logistic Regression Model\n",
    "Let's use a logistic regression model on the transformed data set from the PCA, and see how well the model predicts the test set."
   ]
  },
  {
   "cell_type": "code",
   "execution_count": 11,
   "metadata": {},
   "outputs": [],
   "source": [
    "# import the logistic regression class\n",
    "from sklearn.linear_model import LogisticRegression"
   ]
  },
  {
   "cell_type": "code",
   "execution_count": 12,
   "metadata": {},
   "outputs": [
    {
     "name": "stderr",
     "output_type": "stream",
     "text": [
      "C:\\Users\\mckka\\Anaconda3\\lib\\site-packages\\sklearn\\linear_model\\logistic.py:432: FutureWarning: Default solver will be changed to 'lbfgs' in 0.22. Specify a solver to silence this warning.\n",
      "  FutureWarning)\n",
      "C:\\Users\\mckka\\Anaconda3\\lib\\site-packages\\sklearn\\linear_model\\logistic.py:469: FutureWarning: Default multi_class will be changed to 'auto' in 0.22. Specify the multi_class option to silence this warning.\n",
      "  \"this warning.\", FutureWarning)\n"
     ]
    },
    {
     "data": {
      "text/plain": [
       "LogisticRegression(C=1.0, class_weight=None, dual=False, fit_intercept=True,\n",
       "                   intercept_scaling=1, l1_ratio=None, max_iter=100,\n",
       "                   multi_class='warn', n_jobs=None, penalty='l2',\n",
       "                   random_state=0, solver='warn', tol=0.0001, verbose=0,\n",
       "                   warm_start=False)"
      ]
     },
     "execution_count": 12,
     "metadata": {},
     "output_type": "execute_result"
    }
   ],
   "source": [
    "# create a logistic regression classifier with a random state (seed) of 0, then fit to training set\n",
    "classifier = LogisticRegression(random_state=0)\n",
    "classifier.fit(x_train, y_train)"
   ]
  },
  {
   "cell_type": "code",
   "execution_count": 13,
   "metadata": {},
   "outputs": [
    {
     "name": "stdout",
     "output_type": "stream",
     "text": [
      "[1 3 2 1 2 1 1 3 2 2 3 3 1 2 3 2 1 1 2 1 2 1 1 2 2 2 2 2 2 3 1 1 2 1 1 1]\n"
     ]
    }
   ],
   "source": [
    "# predict x_test\n",
    "y_pred = classifier.predict(x_test)\n",
    "print(y_pred)"
   ]
  },
  {
   "cell_type": "markdown",
   "metadata": {},
   "source": [
    "# Confusion Matrix\n",
    "Let's create a confusion matrix for the logistic regression model. The matrix will be of size 3x3 because there are 3 values in the y_pred Array: 1, 2, or 3.\n",
    "\n",
    "Based on the confusion matrix, we received 35 correct predictions and 1 incorrect prediction, so the accuracy of the model is ~97%. This high accuracy is probably because there are now only 2 independent variables (PC1 and PC2) that explain the majority variance of the data set. Hence, those 2 principal components became great predictors for the model."
   ]
  },
  {
   "cell_type": "code",
   "execution_count": 15,
   "metadata": {},
   "outputs": [],
   "source": [
    "# import the confusion matrix function\n",
    "from sklearn.metrics import confusion_matrix"
   ]
  },
  {
   "cell_type": "code",
   "execution_count": 16,
   "metadata": {},
   "outputs": [
    {
     "name": "stdout",
     "output_type": "stream",
     "text": [
      "[[14  0  0]\n",
      " [ 1 15  0]\n",
      " [ 0  0  6]]\n"
     ]
    }
   ],
   "source": [
    "# create a confusion matrix that compares the y_test (actual) to the y_pred (prediction)\n",
    "cm = confusion_matrix(y_test, y_pred)\n",
    "\n",
    "\"\"\"\n",
    "Read the Confusion Matrix diagonally:\n",
    "14 + 15 + 6 = 35 correct predictions\n",
    "0 + 0 + 1 + 0 + 0 + 0 = 1 incorrect predictions\n",
    "\"\"\"\n",
    "print(cm)"
   ]
  },
  {
   "cell_type": "markdown",
   "metadata": {},
   "source": [
    "# Visualization of Results"
   ]
  },
  {
   "cell_type": "code",
   "execution_count": 19,
   "metadata": {},
   "outputs": [],
   "source": [
    "# import a listed color map\n",
    "from matplotlib.colors import ListedColormap"
   ]
  },
  {
   "cell_type": "code",
   "execution_count": 20,
   "metadata": {},
   "outputs": [
    {
     "name": "stderr",
     "output_type": "stream",
     "text": [
      "'c' argument looks like a single numeric RGB or RGBA sequence, which should be avoided as value-mapping will have precedence in case its length matches with 'x' & 'y'.  Please use a 2-D array with a single row if you really want to specify the same RGB or RGBA value for all points.\n",
      "'c' argument looks like a single numeric RGB or RGBA sequence, which should be avoided as value-mapping will have precedence in case its length matches with 'x' & 'y'.  Please use a 2-D array with a single row if you really want to specify the same RGB or RGBA value for all points.\n",
      "'c' argument looks like a single numeric RGB or RGBA sequence, which should be avoided as value-mapping will have precedence in case its length matches with 'x' & 'y'.  Please use a 2-D array with a single row if you really want to specify the same RGB or RGBA value for all points.\n"
     ]
    },
    {
     "data": {
      "image/png": "[encoded data removed]",
      "text/plain": [
       "<Figure size 432x288 with 1 Axes>"
      ]
     },
     "metadata": {
      "needs_background": "light"
     },
     "output_type": "display_data"
    }
   ],
   "source": [
    "# create a red (Purchased) and green (Not Purchased) separation at the classifier's threshold\n",
    "X_set, y_set = x_test, y_test\n",
    "X1, X2 = np.meshgrid(np.arange(start = X_set[:, 0].min() - 1, stop = X_set[:, 0].max() + 1, step = 0.01),\n",
    "                     np.arange(start = X_set[:, 1].min() - 1, stop = X_set[:, 1].max() + 1, step = 0.01))\n",
    "plt.contourf(X1, X2, classifier.predict(np.array([X1.ravel(), X2.ravel()]).T).reshape(X1.shape),\n",
    "             alpha = 0.75, cmap = ListedColormap(('red', 'green', 'blue')))\n",
    "\n",
    "plt.xlim(X1.min(), X1.max())\n",
    "plt.ylim(X2.min(), X2.max())\n",
    "\n",
    "# scatter each data point from the training set: red = Purchased, green = Not Purchased\n",
    "for i, j in enumerate(np.unique(y_set)):\n",
    "    plt.scatter(X_set[y_set == j, 0], X_set[y_set == j, 1],\n",
    "                c = ListedColormap(('red', 'green', 'blue'))(i), label = j)\n",
    "    \n",
    "# add labels (the axes are the two independent variables), then show the graph  \n",
    "plt.title('Logistic Regression (Test set)')\n",
    "plt.xlabel('PC1')\n",
    "plt.ylabel('PC2')\n",
    "plt.legend()\n",
    "plt.show()"
   ]
  }
 ],
 "metadata": {
  "kernelspec": {
   "display_name": "Python 3",
   "language": "python",
   "name": "python3"
  },
  "language_info": {
   "codemirror_mode": {
    "name": "ipython",
    "version": 3
   },
   "file_extension": ".py",
   "mimetype": "text/x-python",
   "name": "python",
   "nbconvert_exporter": "python",
   "pygments_lexer": "ipython3",
   "version": "3.7.4"
  }
 },
 "nbformat": 4,
 "nbformat_minor": 4
}
