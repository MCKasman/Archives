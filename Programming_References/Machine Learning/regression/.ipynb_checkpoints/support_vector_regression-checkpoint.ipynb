{
 "cells": [
  {
   "cell_type": "markdown",
   "metadata": {},
   "source": [
    "# Support Vector Regression (SVR)"
   ]
  },
  {
   "cell_type": "markdown",
   "metadata": {},
   "source": [
    "<img src=\"images/example_svr1.PNG\" width=\"500\" height=\"500\" align=\"center\"/>\n",
    "\n",
    "In linear regression, the goal is to minimize the distance between predictions using the Ordinary Least Squares (OLS) method.\n",
    "\n",
    "However, in SVR, the goal is NOT to minimize the distance between the predictions.\n",
    "\n",
    "Instead, it's to bound the distance between the predictions and the actual values using a margin. Informally, the distance between what the model predicts and the actual value is no greater than X for ALL data points.\n",
    "\n",
    "However, not EVERY data point can be within the bounds. Therefore, we modify our original definition and say the distance between what the model predicts and the actual value is no greater than X for ALMOST ALL data points.\n",
    "\n",
    "## Key Terms of SVR\n",
    "* Kernel: Function used to map lower dimension to higher dimension\n",
    "* Hyper Plane: Separation between data classes\n",
    "    * In 2D it's a line\n",
    "    * In 3D it's a plane\n",
    "* Boundary Line: Two lines that form the margin region from the hyper plane\n",
    "* Support Vector: Data points closer to the boudnary line\n",
    "    * These support vectors influence the position and orientation of the hyperplane\n",
    "        * So if we delete these support vectors, it will change the position of the hyperplane\n",
    "        \n",
    "### Example of 2D Linear SVR Model\n",
    "<img src=\"images/example_svr2.PNG\" width=\"600\" height=\"600\" align=\"center\"/>\n",
    "\n",
    "Notice there's an Epsilon range (margin or boundary), and a line in the middle of the margin.\n",
    "* Any vector (data point) inside of the margin has 0 cost\n",
    "\n",
    "### Example of 3D Non-Linear SVR Model\n",
    "<img src=\"http://www.semspirit.com//wp-content/uploads/sites/17154/2017/10/PY-SVR-model-capture-800x450-compress-50.gif\" width=\"1000\" height=\"1000\" align=\"center\"/>\n",
    "\n",
    "http://www.semspirit.com/artificial-intelligence/machine-learning/regression/support-vector-regression/support-vector-regression-in-python/\n",
    "\n",
    "This example is a non-linear, gaussian (RBF kernel) example.\n",
    "* Unlike the 2D example, this example doesn't show the boundary line or support vectors"
   ]
  },
  {
   "cell_type": "markdown",
   "metadata": {},
   "source": [
    "# SVR Model"
   ]
  },
  {
   "cell_type": "code",
   "execution_count": 1,
   "metadata": {},
   "outputs": [],
   "source": [
    "#***IMPORTING THE LIBRARIES***\n",
    "import pandas as pd\n",
    "import matplotlib.pyplot as plt\n",
    "import numpy as np"
   ]
  },
  {
   "cell_type": "code",
   "execution_count": 2,
   "metadata": {},
   "outputs": [],
   "source": [
    "#***IMPORTING THE DATA SET***\n",
    "salary_df = pd.read_csv(\"data/Position_Salaries.csv\")\n",
    "\n",
    "# get 'x' and 'y' data\n",
    "x = salary_df.iloc[:, 1:-1].values\n",
    "y = salary_df.iloc[:,-1].values"
   ]
  },
  {
   "cell_type": "code",
   "execution_count": 3,
   "metadata": {},
   "outputs": [
    {
     "data": {
      "text/html": [
       "<div>\n",
       "<style scoped>\n",
       "    .dataframe tbody tr th:only-of-type {\n",
       "        vertical-align: middle;\n",
       "    }\n",
       "\n",
       "    .dataframe tbody tr th {\n",
       "        vertical-align: top;\n",
       "    }\n",
       "\n",
       "    .dataframe thead th {\n",
       "        text-align: right;\n",
       "    }\n",
       "</style>\n",
       "<table border=\"1\" class=\"dataframe\">\n",
       "  <thead>\n",
       "    <tr style=\"text-align: right;\">\n",
       "      <th></th>\n",
       "      <th>Position</th>\n",
       "      <th>Level</th>\n",
       "      <th>Salary</th>\n",
       "    </tr>\n",
       "  </thead>\n",
       "  <tbody>\n",
       "    <tr>\n",
       "      <td>0</td>\n",
       "      <td>Business Analyst</td>\n",
       "      <td>1</td>\n",
       "      <td>45000</td>\n",
       "    </tr>\n",
       "    <tr>\n",
       "      <td>1</td>\n",
       "      <td>Junior Consultant</td>\n",
       "      <td>2</td>\n",
       "      <td>50000</td>\n",
       "    </tr>\n",
       "    <tr>\n",
       "      <td>2</td>\n",
       "      <td>Senior Consultant</td>\n",
       "      <td>3</td>\n",
       "      <td>60000</td>\n",
       "    </tr>\n",
       "    <tr>\n",
       "      <td>3</td>\n",
       "      <td>Manager</td>\n",
       "      <td>4</td>\n",
       "      <td>80000</td>\n",
       "    </tr>\n",
       "    <tr>\n",
       "      <td>4</td>\n",
       "      <td>Country Manager</td>\n",
       "      <td>5</td>\n",
       "      <td>110000</td>\n",
       "    </tr>\n",
       "  </tbody>\n",
       "</table>\n",
       "</div>"
      ],
      "text/plain": [
       "            Position  Level  Salary\n",
       "0   Business Analyst      1   45000\n",
       "1  Junior Consultant      2   50000\n",
       "2  Senior Consultant      3   60000\n",
       "3            Manager      4   80000\n",
       "4    Country Manager      5  110000"
      ]
     },
     "execution_count": 3,
     "metadata": {},
     "output_type": "execute_result"
    }
   ],
   "source": [
    "salary_df.head()"
   ]
  },
  {
   "cell_type": "markdown",
   "metadata": {},
   "source": [
    "# Feature Scaling SVR Model\n",
    "Unlike linear regression models, a non-linear SVR model would require feature scaling because it doesn't use the Ordinary Least Squares method which scales the b-coefficients to the dependent variable value. We don't split the data since we want to leverage the maximum data to identify the correlation between the position levels and salaries.\n",
    "\n",
    "We use a non-linear model for this problem, specifically the RBF kernel or Gaussian function. Therefore, we need to feature scale the variables.\n",
    "\n",
    "Below we standarize the independent and dependent variables."
   ]
  },
  {
   "cell_type": "code",
   "execution_count": 4,
   "metadata": {},
   "outputs": [
    {
     "name": "stdout",
     "output_type": "stream",
     "text": [
      "Before Reshaping:\n",
      " [  45000   50000   60000   80000  110000  150000  200000  300000  500000\n",
      " 1000000] \n",
      "\n",
      "After Reshaping:\n",
      " [[  45000]\n",
      " [  50000]\n",
      " [  60000]\n",
      " [  80000]\n",
      " [ 110000]\n",
      " [ 150000]\n",
      " [ 200000]\n",
      " [ 300000]\n",
      " [ 500000]\n",
      " [1000000]]\n"
     ]
    }
   ],
   "source": [
    "# reshape 'y' into a 2D Array for the standard scaler, then standard scale y, then shape it back\n",
    "print('Before Reshaping:\\n', y, '\\n')\n",
    "y = y.reshape(len(y), 1)\n",
    "print('After Reshaping:\\n', y)"
   ]
  },
  {
   "cell_type": "code",
   "execution_count": 5,
   "metadata": {},
   "outputs": [],
   "source": [
    "# import a standarize scaler class\n",
    "from sklearn.preprocessing import StandardScaler\n",
    "\n",
    "# create standard scalers for 'x' and 'y'\n",
    "sc_x = StandardScaler()\n",
    "sc_y = StandardScaler()\n",
    "\n",
    "# standard scale 'x' & 'y'\n",
    "x = sc_x.fit_transform(x)\n",
    "y = sc_y.fit_transform(y)"
   ]
  },
  {
   "cell_type": "code",
   "execution_count": 6,
   "metadata": {},
   "outputs": [
    {
     "name": "stderr",
     "output_type": "stream",
     "text": [
      "C:\\Users\\mckka\\Anaconda3\\lib\\site-packages\\sklearn\\utils\\validation.py:724: DataConversionWarning: A column-vector y was passed when a 1d array was expected. Please change the shape of y to (n_samples, ), for example using ravel().\n",
      "  y = column_or_1d(y, warn=True)\n"
     ]
    },
    {
     "data": {
      "text/plain": [
       "SVR(C=1.0, cache_size=200, coef0=0.0, degree=3, epsilon=0.1,\n",
       "    gamma='auto_deprecated', kernel='rbf', max_iter=-1, shrinking=True,\n",
       "    tol=0.001, verbose=False)"
      ]
     },
     "execution_count": 6,
     "metadata": {},
     "output_type": "execute_result"
    }
   ],
   "source": [
    "#***TRAINING THE SVR MODEL ON THE WHOLE DATASET***\n",
    "# import SVR class\n",
    "from sklearn.svm import SVR\n",
    "\n",
    "\"\"\"\n",
    "Although this data set is best represented with polynomial regression, we can do it non-linearly.\n",
    "We will use a non-linear model called RBF kernel to fit to the data set and predict values.\n",
    "\"\"\"\n",
    "# create SVR object\n",
    "regressor = SVR(kernel='rbf')\n",
    "regressor.fit(x,y)"
   ]
  },
  {
   "cell_type": "code",
   "execution_count": 7,
   "metadata": {},
   "outputs": [],
   "source": [
    "#***PREDICTING A NEW RESULT***\n",
    "# predicting the salary of position level 6.5\n",
    "# must make sure '6.5' is on the same scale as the previous values since we conducted feature scaling\n",
    "scaled_position = sc_x.transform([[6.5]])\n",
    "\n",
    "# get scaled prediction results\n",
    "normalized_y_pred = regressor.predict(scaled_position)\n",
    "\n",
    "# reverse feature scaling to get the original salary scale\n",
    "reversed_y_pred = sc_y.inverse_transform(normalized_y_pred)"
   ]
  },
  {
   "cell_type": "code",
   "execution_count": 8,
   "metadata": {},
   "outputs": [
    {
     "name": "stdout",
     "output_type": "stream",
     "text": [
      "[170370.0204065]\n"
     ]
    }
   ],
   "source": [
    "# output the predicted salary\n",
    "print(reversed_y_pred)"
   ]
  },
  {
   "cell_type": "code",
   "execution_count": 9,
   "metadata": {},
   "outputs": [
    {
     "data": {
      "image/png": "[encoded data removed]",
      "text/plain": [
       "<Figure size 432x288 with 1 Axes>"
      ]
     },
     "metadata": {
      "needs_background": "light"
     },
     "output_type": "display_data"
    }
   ],
   "source": [
    "#***VISUALIZING THE SVR RESULTS***\n",
    "# reverse feature scaling on 'x' & 'y'\n",
    "rev_x = sc_x.inverse_transform(x)\n",
    "rev_y = sc_y.inverse_transform(y)\n",
    "\n",
    "# create scatter plot for the actual results\n",
    "plt.scatter(rev_x, rev_y, color = 'red')\n",
    "\n",
    "# get predicted salary on original scale\n",
    "y_pred = sc_y.inverse_transform(regressor.predict(x))\n",
    "\n",
    "# create plot for predicted results\n",
    "plt.plot(rev_x, y_pred, color = 'blue')\n",
    "\n",
    "# create labels\n",
    "plt.title('SVR Salary Predictor')\n",
    "plt.xlabel('Position Level')\n",
    "plt.ylabel('Salary')\n",
    "\n",
    "plt.show()"
   ]
  },
  {
   "cell_type": "markdown",
   "metadata": {},
   "source": [
    "### Why Is There an Outlier Data Point?\n",
    "The SVR model doesn't fit to the level 10 data point because it's an outlier. Therefore, under the penalty algorithm (using cost and epsilon values), since the outlier data point is quite far it will consider it as an outlier and not fit to the data point.\n",
    "\n",
    "### How Do We Make The SVR Fit to The Outlier?\n",
    "By default, SKLearn sets epsilon = 0.1 and cost = 1.\n",
    "\n",
    "We can try and fit the SVR better to the data point by changing the Cost and Epsilon parameters.\n",
    "\n",
    "* ε, or Epsilon, defines the margin's range\n",
    "    * Lower ε causes more fitting to the data points\n",
    "* C, or cost, refers to the amount of violation (error) of the margin allowed\n",
    "    * C = 0 means no violations allowed, and C = 100 means violation distance up-to 100 from the margin is allowed\n",
    "    * Higher C means causes more fitting to the data points\n",
    "    \n",
    "Therefore, a lower Epsilon and higher Cost would cause the SVR to fit more to the data points.\n",
    "\n",
    "### Regularization\n"
   ]
  },
  {
   "cell_type": "code",
   "execution_count": 10,
   "metadata": {},
   "outputs": [
    {
     "name": "stderr",
     "output_type": "stream",
     "text": [
      "C:\\Users\\mckka\\Anaconda3\\lib\\site-packages\\sklearn\\utils\\validation.py:724: DataConversionWarning: A column-vector y was passed when a 1d array was expected. Please change the shape of y to (n_samples, ), for example using ravel().\n",
      "  y = column_or_1d(y, warn=True)\n"
     ]
    },
    {
     "data": {
      "text/plain": [
       "SVR(C=100, cache_size=200, coef0=0.0, degree=3, epsilon=0.025,\n",
       "    gamma='auto_deprecated', kernel='rbf', max_iter=-1, shrinking=True,\n",
       "    tol=0.001, verbose=False)"
      ]
     },
     "execution_count": 10,
     "metadata": {},
     "output_type": "execute_result"
    }
   ],
   "source": [
    "# create an SVR regressor with an epsilon of 0.025 and Cost of 100, which fits more to the data\n",
    "regressor = SVR(kernel=\"rbf\", epsilon=0.025, C=100)\n",
    "regressor.fit(x, y)"
   ]
  },
  {
   "cell_type": "code",
   "execution_count": 11,
   "metadata": {},
   "outputs": [
    {
     "data": {
      "image/png": "[encoded data removed]",
      "text/plain": [
       "<Figure size 432x288 with 1 Axes>"
      ]
     },
     "metadata": {
      "needs_background": "light"
     },
     "output_type": "display_data"
    }
   ],
   "source": [
    "# create scatter plot for the actual results\n",
    "plt.scatter(rev_x, rev_y, color = 'red')\n",
    "\n",
    "# get predicted salary on original scale\n",
    "y_pred = sc_y.inverse_transform(regressor.predict(x))\n",
    "\n",
    "# create plot for predicted results\n",
    "plt.plot(rev_x, y_pred, color = 'blue')\n",
    "\n",
    "# create labels\n",
    "plt.title('SVR Salary Predictor')\n",
    "plt.xlabel('Position Level')\n",
    "plt.ylabel('Salary')\n",
    "\n",
    "plt.show()"
   ]
  }
 ],
 "metadata": {
  "kernelspec": {
   "display_name": "Python 3",
   "language": "python",
   "name": "python3"
  },
  "language_info": {
   "codemirror_mode": {
    "name": "ipython",
    "version": 3
   },
   "file_extension": ".py",
   "mimetype": "text/x-python",
   "name": "python",
   "nbconvert_exporter": "python",
   "pygments_lexer": "ipython3",
   "version": "3.7.4"
  }
 },
 "nbformat": 4,
 "nbformat_minor": 4
}
