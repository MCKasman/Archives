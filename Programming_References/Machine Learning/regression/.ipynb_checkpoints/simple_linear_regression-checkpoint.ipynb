{
 "cells": [
  {
   "cell_type": "markdown",
   "metadata": {},
   "source": [
    "# Simple Linear Regression (SLR)\n",
    "Simple Linear Regression is a regression model that estimates the relationship between one indpendent variable and one dependent variable using a straight line - both variables should be quantitative.\n",
    "\n",
    "### Formula\n",
    "y = b0 + b1*x\n",
    "* 'y' is the dependent variable\n",
    "* 'x' is the independent variable\n",
    "* 'b1' is the slope (rate of change)\n",
    "* 'b0' is the y-intercept of the line"
   ]
  },
  {
   "cell_type": "markdown",
   "metadata": {},
   "source": [
    "# Example of Simple Linear Regression\n",
    "\n",
    "<img src=\"images/example_slr.png\" width=\"600\" height=\"600\" align=\"center\"/>\n",
    "\n",
    "The line above is the best-fit line using the data set and the linear regression formula\n",
    "* 'y' is the Salary\n",
    "* 'x' is the Experience of th Employee\n",
    "* 'b1' is the slope (rate of change) in salary based on experience of the employee\n",
    "* 'b0' is the base point, where 'x' (the experience of employees) is equal to 0"
   ]
  },
  {
   "cell_type": "markdown",
   "metadata": {},
   "source": [
    "# Ordinary Least Squares\n",
    "A simple linear regression's best-fit line is determined by the \"Ordinary Least Squares\" method.\n",
    "\n",
    "<img src=\"images/ord_least_sq.png\" width=\"600\" height=\"600\" align=\"center\"/>\n",
    "\n",
    "* Point yi indicates the actual point in the data set\n",
    "* Point yi^ indicates the predicted point in the data set\n",
    "\n",
    "The best-fit line has the least squared sum distances between yi and yi^.\n",
    "* The ML model creates multiple lines and compares which line has the least sqaured distances\n",
    "* The line with the least squared distances is the best-fit line"
   ]
  },
  {
   "cell_type": "markdown",
   "metadata": {},
   "source": [
    "# SKLearn Linear Regression Model"
   ]
  },
  {
   "cell_type": "code",
   "execution_count": 1,
   "metadata": {},
   "outputs": [],
   "source": [
    "# ***IMPORTING THE LIBRARIES***\n",
    "import numpy as np\n",
    "import pandas as pd\n",
    "import matplotlib.pyplot as plt"
   ]
  },
  {
   "cell_type": "code",
   "execution_count": 2,
   "metadata": {},
   "outputs": [
    {
     "data": {
      "text/html": [
       "<div>\n",
       "<style scoped>\n",
       "    .dataframe tbody tr th:only-of-type {\n",
       "        vertical-align: middle;\n",
       "    }\n",
       "\n",
       "    .dataframe tbody tr th {\n",
       "        vertical-align: top;\n",
       "    }\n",
       "\n",
       "    .dataframe thead th {\n",
       "        text-align: right;\n",
       "    }\n",
       "</style>\n",
       "<table border=\"1\" class=\"dataframe\">\n",
       "  <thead>\n",
       "    <tr style=\"text-align: right;\">\n",
       "      <th></th>\n",
       "      <th>YearsExperience</th>\n",
       "      <th>Salary</th>\n",
       "    </tr>\n",
       "  </thead>\n",
       "  <tbody>\n",
       "    <tr>\n",
       "      <td>0</td>\n",
       "      <td>1.1</td>\n",
       "      <td>39343.0</td>\n",
       "    </tr>\n",
       "    <tr>\n",
       "      <td>1</td>\n",
       "      <td>1.3</td>\n",
       "      <td>46205.0</td>\n",
       "    </tr>\n",
       "    <tr>\n",
       "      <td>2</td>\n",
       "      <td>1.5</td>\n",
       "      <td>37731.0</td>\n",
       "    </tr>\n",
       "    <tr>\n",
       "      <td>3</td>\n",
       "      <td>2.0</td>\n",
       "      <td>43525.0</td>\n",
       "    </tr>\n",
       "    <tr>\n",
       "      <td>4</td>\n",
       "      <td>2.2</td>\n",
       "      <td>39891.0</td>\n",
       "    </tr>\n",
       "  </tbody>\n",
       "</table>\n",
       "</div>"
      ],
      "text/plain": [
       "   YearsExperience   Salary\n",
       "0              1.1  39343.0\n",
       "1              1.3  46205.0\n",
       "2              1.5  37731.0\n",
       "3              2.0  43525.0\n",
       "4              2.2  39891.0"
      ]
     },
     "execution_count": 2,
     "metadata": {},
     "output_type": "execute_result"
    }
   ],
   "source": [
    "# ***IMPORTING THE DATA SET***\n",
    "salary_df = pd.read_csv(\"data/Salary_Data.csv\")\n",
    "salary_df.head()"
   ]
  },
  {
   "cell_type": "code",
   "execution_count": 3,
   "metadata": {},
   "outputs": [],
   "source": [
    "# ***SPLITTING THE DATA SET INTO THE TRAINING AND TESTING SET***\n",
    "# get 'x' and 'y' data\n",
    "# 'x' is the years of experience column (represented as a 2D Array for the SKLearn regression model)\n",
    "# 'y' is the salary column (represented as a 1D Array for the SKLearn regression model)\n",
    "x = salary_df.iloc[:,:-1].values\n",
    "y = salary_df.iloc[:,1].values"
   ]
  },
  {
   "cell_type": "code",
   "execution_count": 4,
   "metadata": {},
   "outputs": [],
   "source": [
    "# split the data set into the training and testing data sets\n",
    "from sklearn.model_selection import train_test_split \n",
    "x_train, x_test, y_train, y_test = train_test_split(x, y, test_size=0.2, random_state=0)"
   ]
  },
  {
   "cell_type": "code",
   "execution_count": 5,
   "metadata": {},
   "outputs": [
    {
     "data": {
      "text/plain": [
       "LinearRegression(copy_X=True, fit_intercept=True, n_jobs=None, normalize=False)"
      ]
     },
     "execution_count": 5,
     "metadata": {},
     "output_type": "execute_result"
    }
   ],
   "source": [
    "# ***TRAINING THE SIMPLE LINEAR REGRESSION MODEL ON THE DATA SET***\n",
    "# import the linear regression class\n",
    "from sklearn.linear_model import LinearRegression\n",
    "\n",
    "# create a linear regressor Object, then fit it to the training data\n",
    "# creates linear regression model\n",
    "regressor = LinearRegression()\n",
    "\n",
    "# fit() is the method you use to train your machine learning/deep learning model\n",
    "regressor.fit(x_train, y_train)"
   ]
  },
  {
   "cell_type": "code",
   "execution_count": 6,
   "metadata": {},
   "outputs": [
    {
     "data": {
      "text/plain": [
       "array([ 40748.96184072, 122699.62295594,  64961.65717022,  63099.14214487,\n",
       "       115249.56285456, 107799.50275317])"
      ]
     },
     "execution_count": 6,
     "metadata": {},
     "output_type": "execute_result"
    }
   ],
   "source": [
    "# ***PREDICTING THE TEST SET RESULTS***\n",
    "y_pred = regressor.predict(x_test)\n",
    "y_pred"
   ]
  },
  {
   "cell_type": "code",
   "execution_count": 8,
   "metadata": {},
   "outputs": [
    {
     "data": {
      "image/png": "[encoded data removed]",
      "text/plain": [
       "<Figure size 432x288 with 1 Axes>"
      ]
     },
     "metadata": {
      "needs_background": "light"
     },
     "output_type": "display_data"
    }
   ],
   "source": [
    "#***VISUALIZING THE TRAINING SET RESULTS***\n",
    "plt.scatter(x_train, y_train, color = 'red') # real salaries\n",
    "plt.plot(x_train, regressor.predict(x_train), color = 'blue') # predicted salaries\n",
    "plt.title('Predicted Salary by Experience (Training Set)')\n",
    "plt.xlabel('Years of Experience')\n",
    "plt.ylabel('Predicted Salary')\n",
    "plt.show()"
   ]
  },
  {
   "cell_type": "code",
   "execution_count": 9,
   "metadata": {},
   "outputs": [
    {
     "data": {
      "image/png": "[encoded data removed]",
      "text/plain": [
       "<Figure size 432x288 with 1 Axes>"
      ]
     },
     "metadata": {
      "needs_background": "light"
     },
     "output_type": "display_data"
    }
   ],
   "source": [
    "#***VISUALIZING THE TEST SET RESULTS***\n",
    "plt.scatter(x_test, y_test, color = 'red') # real salaries\n",
    "\n",
    "# don't need to replace variables for test predicted data since the regression line would be the same as in training data\n",
    "# this is a result of a unique equation which will make the predicted salaries be on the same regression line as the predicted salaries on the training set\n",
    "plt.plot(x_train, regressor.predict(x_train), color = 'blue') # predicted salaries\n",
    "plt.title('Predicted Salary by Experience (Test Set)')\n",
    "plt.xlabel('Years of Experience')\n",
    "plt.ylabel('Predicted Salary')\n",
    "plt.show()"
   ]
  },
  {
   "cell_type": "code",
   "execution_count": 10,
   "metadata": {},
   "outputs": [
    {
     "name": "stdout",
     "output_type": "stream",
     "text": [
      "Predicted: 40749.0 vs Actual: 37731.0 ---> Difference: 3018.0\n",
      "Predicted: 122700.0 vs Actual: 122391.0 ---> Difference: 309.0\n",
      "Predicted: 64962.0 vs Actual: 57081.0 ---> Difference: 7881.0\n",
      "Predicted: 63099.0 vs Actual: 63218.0 ---> Difference: 119.0\n",
      "Predicted: 115250.0 vs Actual: 116969.0 ---> Difference: 1719.0\n",
      "Predicted: 107800.0 vs Actual: 109431.0 ---> Difference: 1631.0\n"
     ]
    }
   ],
   "source": [
    "# compare y_pred (prediction) to the y_test (actual)\n",
    "i = 0\n",
    "while i < len(y_pred):\n",
    "    diff = abs(round(y_pred[i]) - y_test[i])\n",
    "    print(\"Predicted: \" + str(round(y_pred[i])) + \" vs Actual: \" + str(y_test[i]) +\n",
    "          \" ---> Difference: \" + str(diff))\n",
    "    i += 1"
   ]
  },
  {
   "cell_type": "code",
   "execution_count": 11,
   "metadata": {},
   "outputs": [
    {
     "name": "stdout",
     "output_type": "stream",
     "text": [
      "[138531.00067138]\n"
     ]
    }
   ],
   "source": [
    "#***MAKING A SINGLE PREDICTION (i.e. SALARY OF EMPLOYEE WITH 12 YEARS OF EXPERIENCE)***\n",
    "print(regressor.predict([[12]]))"
   ]
  },
  {
   "cell_type": "markdown",
   "metadata": {},
   "source": [
    "**Important note:** Notice that the value of the feature (12 years) was input in a double pair of square brackets. That's because the \"predict\" method always expects a 2D array as the format of its inputs. And putting 12 into a double pair of square brackets makes the input exactly a 2D array. Simply put:\n",
    "\n",
    "$12 \\rightarrow \\textrm{scalar}$\n",
    "\n",
    "$[12] \\rightarrow \\textrm{1D array}$\n",
    "\n",
    "$[[12]] \\rightarrow \\textrm{2D array}$"
   ]
  },
  {
   "cell_type": "code",
   "execution_count": 13,
   "metadata": {},
   "outputs": [
    {
     "name": "stdout",
     "output_type": "stream",
     "text": [
      "Regressor Coefficient (slope): [9312.57512673]\n",
      "Regressor Intercept (y-intercept): 26780.099150628186\n"
     ]
    }
   ],
   "source": [
    "#***GETTING THE FINAL LINEAR REGRESSION EQUATION WITH THE VALUES OF THE COEFFICIENTS***\n",
    "print('Regressor Coefficient (slope):', regressor.coef_)\n",
    "print('Regressor Intercept (y-intercept):', regressor.intercept_)"
   ]
  },
  {
   "cell_type": "markdown",
   "metadata": {},
   "source": [
    "Therefore, the equation of our simple linear regression model is:\n",
    "\n",
    "$$\\textrm{Salary} = 9312.58 \\times \\textrm{YearsExperience} + 26780.10$$\n",
    "\n",
    "**Important Note:** To get these coefficients we called the \"coef_\" and \"intercept_\" attributes from our regressor object. Attributes in Python are different than methods and usually return a simple value or an array of values."
   ]
  }
 ],
 "metadata": {
  "kernelspec": {
   "display_name": "Python 3",
   "language": "python",
   "name": "python3"
  },
  "language_info": {
   "codemirror_mode": {
    "name": "ipython",
    "version": 3
   },
   "file_extension": ".py",
   "mimetype": "text/x-python",
   "name": "python",
   "nbconvert_exporter": "python",
   "pygments_lexer": "ipython3",
   "version": "3.7.4"
  }
 },
 "nbformat": 4,
 "nbformat_minor": 4
}
