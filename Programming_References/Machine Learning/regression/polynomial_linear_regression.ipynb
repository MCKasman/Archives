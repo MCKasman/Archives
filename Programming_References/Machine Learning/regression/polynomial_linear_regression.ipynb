{
 "cells": [
  {
   "cell_type": "markdown",
   "metadata": {},
   "source": [
    "# Polynomial Linear Regression (PLR)\n",
    "Polynomial Linear Regression uses a best-fit line with higher degrees.\n",
    "\n",
    "### Formula\n",
    "y = b0 + b1*x + b2*x^2 + ... bn*x^n\n",
    "* 'n' is highest degree\n",
    "* 'y' is the dependent variable\n",
    "* 'm' is the slope (rate of change)\n",
    "* 'x' is the independent variable\n",
    "* 'b0' is the y-intercept of the line\n",
    "\n",
    "Notice that there's only one independent variable, x; but multiple coefficients up to n.\n",
    "\n",
    "### Why Is It Linear?\n",
    "The definition of a \"linear\" model is not based on the relationship between y and x, but instead its if the function can be expressed as a linear combination of the b-coefficients.\n",
    "\n",
    "The goal of a regression model is to determine the b-coefficient, so if it's linearly determined then it's a linear model.\n",
    "\n",
    "An example of a polynomial linear regression is:\n",
    "* y = 2x^2 + 5x + 3 where b2 = 2, b1 = 5, and b0 = 3\n",
    "\n",
    "All b-coefficients were determined linearly, so it's a linear model\n",
    "\n",
    "A non-linear example would be:\n",
    "* y = (b2*x^2) / (b0 + b1*x)\n",
    "\n",
    "## Example of Polynomial Linear Regression\n",
    "<img src=\"images/example_plr.PNG\" width=\"600\" height=\"600\" align=\"center\"/>\n",
    "\n",
    "A simple linear regression model would not be ideal for these data points. A polynomial regression model fits better with these data points. This example uses a polynomial regression model with a degree of 2."
   ]
  },
  {
   "cell_type": "markdown",
   "metadata": {},
   "source": [
    "# SKLearn Polynomial Linear Regression Model\n",
    "The data set shows salary information for each position. The higher the level, the higher the position, thus the higher the salary.\n",
    "\n",
    "The problem is that an HR person is trying to determine the salary of a person in-between a Partner and Senior Partner level. Unfortunately, a salary between those two level are not given, so the HR person needs to predict the salary. Looking at the data set, the level the HR person must predict is 6.5\n",
    "\n",
    "Furthermore, based on the data set, the salary is best represented as a polynomial function."
   ]
  },
  {
   "cell_type": "code",
   "execution_count": 1,
   "metadata": {},
   "outputs": [],
   "source": [
    "#***IMPORTING LIBRARIES***\n",
    "import numpy as np\n",
    "import matplotlib.pyplot as plt\n",
    "import pandas as pd"
   ]
  },
  {
   "cell_type": "code",
   "execution_count": 2,
   "metadata": {},
   "outputs": [],
   "source": [
    "#***IMPORTING THE DATASET***\n",
    "data = pd.read_csv('data/Position_Salaries.csv')\n",
    "x = data.iloc[:, 1:-1].values\n",
    "y = data.iloc[:, -1].values"
   ]
  },
  {
   "cell_type": "code",
   "execution_count": 3,
   "metadata": {},
   "outputs": [],
   "source": [
    "#***SPLITTING THE DATASET INTO THE TRAINING AND TEST SET***\n",
    "from sklearn.model_selection import train_test_split \n",
    "x_train, x_test, y_train, y_test = train_test_split(x, y, test_size=0.2, random_state=0)"
   ]
  },
  {
   "cell_type": "code",
   "execution_count": 4,
   "metadata": {},
   "outputs": [
    {
     "data": {
      "text/plain": [
       "[<matplotlib.lines.Line2D at 0x2467e3fd508>]"
      ]
     },
     "execution_count": 4,
     "metadata": {},
     "output_type": "execute_result"
    },
    {
     "data": {
      "image/png": "[encoded data removed]",
      "text/plain": [
       "<Figure size 432x288 with 1 Axes>"
      ]
     },
     "metadata": {
      "needs_background": "light"
     },
     "output_type": "display_data"
    }
   ],
   "source": [
    "# let's create a scatterplot for x and y to better visualize the polynomial function\n",
    "figure = plt.figure()\n",
    "axes = figure.add_axes([1, 1, 1, 1])\n",
    "\n",
    "# set labels\n",
    "axes.set_xlabel(\"Level\")\n",
    "axes.set_ylabel(\"Salary\")\n",
    "axes.set_title(\"Salary by Level\")\n",
    "\n",
    "# scatter plot the salary, as you can see it's like a polynomial function with a degree of 4\n",
    "axes.plot(x, y,)"
   ]
  },
  {
   "cell_type": "code",
   "execution_count": 5,
   "metadata": {},
   "outputs": [
    {
     "data": {
      "text/plain": [
       "LinearRegression(copy_X=True, fit_intercept=True, n_jobs=None, normalize=False)"
      ]
     },
     "execution_count": 5,
     "metadata": {},
     "output_type": "execute_result"
    }
   ],
   "source": [
    "# ***TRAINING THE SIMPLE LINEAR REGRESSION MODEL ON THE WHOLE DATASET***\n",
    "# import the linear regression class\n",
    "from sklearn.linear_model import LinearRegression\n",
    "\n",
    "# create linear regression model\n",
    "lin_reg = LinearRegression()\n",
    "\n",
    "# don't need to split data into training and test set since we want to leverage the maximum data to train our model\n",
    "# train model with the data\n",
    "lin_reg.fit(x,y)"
   ]
  },
  {
   "cell_type": "code",
   "execution_count": 6,
   "metadata": {},
   "outputs": [
    {
     "data": {
      "text/plain": [
       "LinearRegression(copy_X=True, fit_intercept=True, n_jobs=None, normalize=False)"
      ]
     },
     "execution_count": 6,
     "metadata": {},
     "output_type": "execute_result"
    }
   ],
   "source": [
    "#***TRAINING THE POLYNOMIAL REGRESSION MODEL ON THE WHOLE DATASET***\n",
    "# import polynomial feature class\n",
    "from sklearn.preprocessing import PolynomialFeatures\n",
    "\n",
    "# create a polynomial transformer for a degree of 4\n",
    "poly_transform = PolynomialFeatures(degree=4)\n",
    "\n",
    "# transform 'x' to a polynomial with a degree of 4\n",
    "x_poly = poly_transform.fit_transform(x)\n",
    "\n",
    "# create a multiple linear regressor, then fit the 'x_poly' and 'y' data\n",
    "poly_reg = LinearRegression()\n",
    "poly_reg.fit(x_poly, y)"
   ]
  },
  {
   "cell_type": "markdown",
   "metadata": {},
   "source": [
    "## Visualizing Simple Linear Regression Model\n",
    "The graph shows that a simple linear regression model do not have great predictions.\n",
    "\n",
    "We're quite far from the actual values within the regression model.\n",
    "In fact, a level of 6.5 has a salary of about 300,000. This shows the inaccuracy of the model."
   ]
  },
  {
   "cell_type": "code",
   "execution_count": 7,
   "metadata": {},
   "outputs": [
    {
     "data": {
      "image/png": "[encoded data removed]",
      "text/plain": [
       "<Figure size 432x288 with 1 Axes>"
      ]
     },
     "metadata": {
      "needs_background": "light"
     },
     "output_type": "display_data"
    }
   ],
   "source": [
    "# create scatter plot for the actual results\n",
    "plt.scatter(x, y, color = 'red')\n",
    "\n",
    "# get the predicted results, line of best-fit\n",
    "y_pred = lin_reg.predict(x)\n",
    "\n",
    "# create plot for predicted results\n",
    "plt.plot(x, y_pred, color = 'blue')\n",
    "\n",
    "# plot labels\n",
    "plt.title('Simple Linear Regression Salary Predictor')\n",
    "plt.xlabel('Position Level')\n",
    "plt.ylabel('Salary')\n",
    "\n",
    "plt.show()"
   ]
  },
  {
   "cell_type": "markdown",
   "metadata": {},
   "source": [
    "## Visualizing Polynomial Linear Regression Model\n",
    "The graph shows that a polynomial linear regression model has a better prediction.\n",
    "\n",
    "A level of 6.5 shows a salary between 150,000 and 200,000, which is more accurate."
   ]
  },
  {
   "cell_type": "code",
   "execution_count": 8,
   "metadata": {},
   "outputs": [
    {
     "data": {
      "image/png": "[encoded data removed]",
      "text/plain": [
       "<Figure size 432x288 with 1 Axes>"
      ]
     },
     "metadata": {
      "needs_background": "light"
     },
     "output_type": "display_data"
    }
   ],
   "source": [
    "# create scatter plot for the actual results\n",
    "plt.scatter(x, y, color = 'red')\n",
    "\n",
    "# get the predicted results, line of best-fit\n",
    "y_pred = poly_reg.predict(x_poly)\n",
    "\n",
    "# create plot for predicted results\n",
    "plt.plot(x, y_pred, color = 'blue')\n",
    "\n",
    "# plot labels\n",
    "plt.title('Polynomial Linear Regression Salary Predictor')\n",
    "plt.xlabel('Position Level')\n",
    "plt.ylabel('Salary')\n",
    "\n",
    "plt.show()"
   ]
  },
  {
   "cell_type": "markdown",
   "metadata": {},
   "source": [
    "### Higher Resolution and Smoother Curve Visualization for Polynomial Linear Regression Model"
   ]
  },
  {
   "cell_type": "code",
   "execution_count": 9,
   "metadata": {},
   "outputs": [
    {
     "data": {
      "image/png": "[encoded data removed]",
      "text/plain": [
       "<Figure size 432x288 with 1 Axes>"
      ]
     },
     "metadata": {
      "needs_background": "light"
     },
     "output_type": "display_data"
    }
   ],
   "source": [
    "# actual results scatter plot\n",
    "plt.scatter(x, y, color=\"red\")\n",
    "\n",
    "# remove the jaggidiness of the lines by using 0.1 increments of x\n",
    "x_grid = np.arange(min(x), max(x), 0.1)\n",
    "\n",
    "# re-shape the x_grid Array, then fit and transform it into a polynomial\n",
    "x_grid = x_grid.reshape(len(x_grid), 1)\n",
    "x_grid_poly = poly_transform.fit_transform(x_grid)\n",
    "\n",
    "# predicted results best-fit line\n",
    "y_pred = poly_reg.predict(x_grid_poly)\n",
    "plt.plot(x_grid, y_pred, color=\"blue\")\n",
    "\n",
    "# labels\n",
    "plt.title('Polynomial Linear Regression Salary Predictor')\n",
    "plt.ylabel(\"Salary\")\n",
    "plt.xlabel(\"Position Level\")\n",
    "\n",
    "plt.show()"
   ]
  },
  {
   "cell_type": "markdown",
   "metadata": {},
   "source": [
    "# Polynomial vs Simple Regression Model Comparision\n",
    "Let's compare the two models and see their predictions.\n",
    "\n",
    "As seen below, the polynomial prediction was more accurate when viewing the data set."
   ]
  },
  {
   "cell_type": "code",
   "execution_count": 10,
   "metadata": {},
   "outputs": [
    {
     "data": {
      "text/plain": [
       "array([330378.78787879])"
      ]
     },
     "execution_count": 10,
     "metadata": {},
     "output_type": "execute_result"
    }
   ],
   "source": [
    "# predict the salary of position level 6.5 with the simple linear regression model\n",
    "lin_reg.predict([[6.5]]) # this is a really bad prediction since the model is not accurate to the actual results"
   ]
  },
  {
   "cell_type": "code",
   "execution_count": 11,
   "metadata": {},
   "outputs": [
    {
     "data": {
      "text/plain": [
       "array([158862.45265153])"
      ]
     },
     "execution_count": 11,
     "metadata": {},
     "output_type": "execute_result"
    }
   ],
   "source": [
    "# predict the salary of position level 6.5 with the polynomial linear regression model\n",
    "poly_level = poly_transform.fit_transform([[6.5]])\n",
    "poly_reg.predict(poly_level) # this is a better prediction since the model is more accurate to the actual results"
   ]
  }
 ],
 "metadata": {
  "kernelspec": {
   "display_name": "Python 3",
   "language": "python",
   "name": "python3"
  },
  "language_info": {
   "codemirror_mode": {
    "name": "ipython",
    "version": 3
   },
   "file_extension": ".py",
   "mimetype": "text/x-python",
   "name": "python",
   "nbconvert_exporter": "python",
   "pygments_lexer": "ipython3",
   "version": "3.7.4"
  }
 },
 "nbformat": 4,
 "nbformat_minor": 4
}
