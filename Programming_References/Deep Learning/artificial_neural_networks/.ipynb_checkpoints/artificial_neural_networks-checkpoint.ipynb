{
 "cells": [
  {
   "cell_type": "markdown",
   "metadata": {},
   "source": [
    "# **Artificial Neural Network (ANN) Intuition**\n",
    "The fundamental neural network to deep learning. We will create a simple Dense ANN using Keras in this lecture, but first let's learn about the essential mechanisms of an artificial neural network.\n",
    "\n",
    "#### **Non-Neural Network Learning**\n",
    "When not using a neural network, then you would just use if statements to check if certain conditions are true then it helps determine a predicted value.\n",
    "\n",
    "For instance, classifying an animal as a dog or cat. We would use if statements to check if the animal's ears are pointy or lopped, snout is small or large, etc.\n",
    "\n",
    "#### **Neural Network Learning**\n",
    "When using a neural network, you program the network's architecture then it'll determine the necessary characteristics itself.\n",
    "\n",
    "For instance, the neural network would learn the difference between a dog or cat and use what it learned to predict whether or not an animal is a dog or cat."
   ]
  },
  {
   "cell_type": "markdown",
   "metadata": {},
   "source": [
    "## **Neurons and Layers**\n",
    "A **neuron** is a Node that transmits data through layers.\n",
    "\n",
    "A **layer** is a collection of Nodes together at the same depth.\n",
    "\n",
    "<img src=\"images/neuron.png\" width=\"700\" height=\"750\" align=\"center\"/>\n",
    "\n",
    "*This is an example of a biological neuron*\n",
    "\n",
    "<img src=\"images/perceptron.png\" width=\"700\" height=\"550\" align=\"center\"/>\n",
    "\n",
    "*This is an example of a Perceptron: a neural network with only an input and output layer*\n",
    "\n",
    "* The input value(s) are standarized (and sometimes normalized).\n",
    "\n",
    "* The output value(s) can be continuous (number), binary (yes or no), or categorical (dummy variables).\n",
    "\n",
    "* The input value(s) are transmitted through neuron(s), which are processed throughout the layers to determine output value(s).\n",
    "\n",
    "In real life, the input values of a human are the 5 senses: sight, touch, sound, taste, and smell. And these input values are transmitted to the neurons, which the neurons will process and determine an output. For example, if I touch a fire with my hand, then my touch input value will signal the neuron, and then the neuron will process it and determine that I need to take my hand away from the fire.\n",
    "\n",
    "#### **Weights**\n",
    "For each synapse (signal), there can be weights to measure the significance of a signal. Weights are crucial, and they're the values that get adjusted across the neural network. This is where gradient descent and backpropagation come into play, but we'll get to that later.\n",
    "\n",
    "<img src=\"images/weights_perceptron.png\" width=\"700\" height=\"550\" align=\"center\"/>\n",
    "\n",
    "* W1, W2, and Wm are the individual weights for each synapse (arrow, or signal)\n",
    "\n",
    "* The formula inside the neuron is a value that determines how significant the synapse is to the next neuron in the layer."
   ]
  },
  {
   "cell_type": "code",
   "execution_count": null,
   "metadata": {},
   "outputs": [],
   "source": []
  }
 ],
 "metadata": {
  "kernelspec": {
   "display_name": "Python 3",
   "language": "python",
   "name": "python3"
  },
  "language_info": {
   "codemirror_mode": {
    "name": "ipython",
    "version": 3
   },
   "file_extension": ".py",
   "mimetype": "text/x-python",
   "name": "python",
   "nbconvert_exporter": "python",
   "pygments_lexer": "ipython3",
   "version": "3.7.4"
  }
 },
 "nbformat": 4,
 "nbformat_minor": 4
}
